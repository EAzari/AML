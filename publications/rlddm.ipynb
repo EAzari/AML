{
 "cells": [
  {
   "cell_type": "markdown",
   "id": "af9d751c",
   "metadata": {},
   "source": [
    "# Reinforcement learning-driven diffusion model (RLDDM)\n",
    "\n",
    "**Adaptive SDE with RL**:  \n",
    "   $$\n",
    "   dX_t = f(X_t, t, u) dt + g(X_t, t, u) dW_t \\quad where \\quad u = \\pi(X_t, t)\n",
    "   $$\n",
    "   Here, the policy $ u = \\pi(X_t, t)$ directly **guides the denoising process**, **no score function needed**."
   ]
  }
 ],
 "metadata": {
  "language_info": {
   "name": "python"
  }
 },
 "nbformat": 4,
 "nbformat_minor": 5
}
